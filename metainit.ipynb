{
 "cells": [
  {
   "cell_type": "markdown",
   "metadata": {
    "papermill": {
     "duration": 0.013376,
     "end_time": "2020-10-05T21:31:30.554474",
     "exception": false,
     "start_time": "2020-10-05T21:31:30.541098",
     "status": "completed"
    },
    "tags": []
   },
   "source": [
    "# Meta Initialization For Image Segmentation Code\n",
    "\n",
    "This kernel creates a meta neural network to provide starting weights and biases that will aid an agent in its training"
   ]
  },
  {
   "cell_type": "code",
   "execution_count": 1,
   "metadata": {
    "execution": {
     "iopub.execute_input": "2020-10-05T21:31:30.583653Z",
     "iopub.status.busy": "2020-10-05T21:31:30.582883Z",
     "iopub.status.idle": "2020-10-05T21:31:30.586317Z",
     "shell.execute_reply": "2020-10-05T21:31:30.586792Z"
    },
    "papermill": {
     "duration": 0.019943,
     "end_time": "2020-10-05T21:31:30.586977",
     "exception": false,
     "start_time": "2020-10-05T21:31:30.567034",
     "status": "completed"
    },
    "tags": []
   },
   "outputs": [],
   "source": [
    "# This version uses a model predicting in series of 100 trained with relu to create a head for a resnet18, optimial batch norm and activation functions are applied."
   ]
  },
  {
   "cell_type": "code",
   "execution_count": 2,
   "metadata": {
    "execution": {
     "iopub.execute_input": "2020-10-05T21:31:30.631743Z",
     "iopub.status.busy": "2020-10-05T21:31:30.626515Z",
     "iopub.status.idle": "2020-10-05T21:31:48.683328Z",
     "shell.execute_reply": "2020-10-05T21:31:48.683917Z"
    },
    "papermill": {
     "duration": 18.084041,
     "end_time": "2020-10-05T21:31:48.684067",
     "exception": false,
     "start_time": "2020-10-05T21:31:30.600026",
     "status": "completed"
    },
    "tags": []
   },
   "outputs": [
    {
     "name": "stderr",
     "output_type": "stream",
     "text": [
      "Downloading: \"https://download.pytorch.org/models/googlenet-1378be20.pth\" to /root/.cache/torch/checkpoints/googlenet-1378be20.pth\n"
     ]
    },
    {
     "data": {
      "application/vnd.jupyter.widget-view+json": {
       "model_id": "f0166b4bee6c4b028a5e042fe9465124",
       "version_major": 2,
       "version_minor": 0
      },
      "text/plain": [
       "HBox(children=(FloatProgress(value=0.0, max=52147035.0), HTML(value='')))"
      ]
     },
     "metadata": {},
     "output_type": "display_data"
    },
    {
     "name": "stdout",
     "output_type": "stream",
     "text": [
      "\n",
      "Downloading https://www.cs.toronto.edu/~kriz/cifar-10-python.tar.gz to ./MNIST/cifar-10-python.tar.gz\n"
     ]
    },
    {
     "data": {
      "application/vnd.jupyter.widget-view+json": {
       "model_id": "e1c686a83dfd4d51ba6d556fd09254ce",
       "version_major": 2,
       "version_minor": 0
      },
      "text/plain": [
       "HBox(children=(FloatProgress(value=1.0, bar_style='info', max=1.0), HTML(value='')))"
      ]
     },
     "metadata": {},
     "output_type": "display_data"
    },
    {
     "name": "stdout",
     "output_type": "stream",
     "text": [
      "Extracting ./MNIST/cifar-10-python.tar.gz to ./MNIST\n",
      "Files already downloaded and verified\n",
      "\n"
     ]
    }
   ],
   "source": [
    "'''\n",
    "Hypothesis:  a metanet can produce low enough losses when predicting weights that will fit a given error\n",
    "that the initialization by this metanet would be extremely helpful, the challange in this kernel is to\n",
    "find the exactly correct error for a 2 layer FC system with batch norm and activation functions to outperform \n",
    "other initialization methods.\n",
    "'''\n",
    "\n",
    "import torchvision\n",
    "import torchvision.transforms as transforms\n",
    "import torch\n",
    "import torch.nn as nn\n",
    "import gc\n",
    "from tqdm import tqdm\n",
    "import os\n",
    "\n",
    "cuda_is_available = True\n",
    "\n",
    "bs = 1\n",
    "\n",
    "import torchvision.models as models\n",
    "resnet18 = models.googlenet(pretrained=True).eval()\n",
    "resnet18 = torch.nn.Sequential(*(list(resnet18.children())[:-1])).cuda()\n",
    "\n",
    "\n",
    "imsize = 1024\n",
    "    \n",
    "class Conv(nn.Module): # define Metanet working in series of 1\n",
    "    def __init__(self):\n",
    "        super(Conv, self).__init__()\n",
    "        self.padding = 1\n",
    "        self.norm = nn.ReLU()\n",
    "        \n",
    "        self.W1 = nn.Conv2d(bs*20, bs*10, 7, 1, 3, bias=False)\n",
    "        self.W2 = nn.Conv2d(bs*10, bs*10, 3, 1, self.padding, bias=False)\n",
    "        self.W6 = nn.Conv2d(bs*10, 10, 3, 1, self.padding, bias=False)\n",
    "        \n",
    "    def forward(self, x):\n",
    "        x1 = self.norm(self.W1(x))\n",
    "        x = self.norm(self.W2(x1))\n",
    "        x = self.W6(x)\n",
    "       \n",
    "        return x\n",
    "\n",
    "updaterw = Conv()\n",
    "if cuda_is_available:\n",
    "    updaterw = updaterw.cuda()\n",
    "\n",
    "def forward_backward(x, y): # run Metanet on one sample and generate its loss\n",
    "    x = f(x).float()\n",
    "\n",
    "    yee = torch.tensor([])\n",
    "    if cuda_is_available:\n",
    "        yee = torch.tensor([]).cuda()\n",
    "        x = x.cuda()\n",
    "        y = y.cuda()\n",
    "    for b in range(bs):\n",
    "        if cuda_is_available:\n",
    "            ye = torch.zeros([10]).cuda()\n",
    "        else:\n",
    "            ye = torch.zeros([10])\n",
    "        ye[y] = 10\n",
    "        yee = torch.cat([yee, ye])\n",
    "\n",
    "    secondary = yee.reshape([bs, 10]).repeat(imsize, 1).reshape([bs*imsize, 10])\n",
    "    \n",
    "    x = (nn.ReLU()(x).reshape([1, 1, 1024])).reshape(1, 1024) # nn.InstanceNorm1d(1024)\n",
    "\n",
    "    win = torch.cat([secondary, x.reshape([bs*imsize,1]).repeat(1, 10).reshape([bs*imsize, 10])]).reshape([1, bs*20, 32, 32])\n",
    "    w1 = updaterw(win) #794\n",
    "\n",
    "    pred = (torch.mm(x, w1.reshape([imsize, 10])))\n",
    "    \n",
    "    loss = nn.CrossEntropyLoss()(pred.reshape([bs, 10]), y) #nn.Softmax() \n",
    "\n",
    "    optimizerw.zero_grad()\n",
    "    loss.backward(retain_graph=True)\n",
    "    optimizerw.step()\n",
    "\n",
    "    return loss\n",
    "    \n",
    "\n",
    "# get dataset    \n",
    "\n",
    "transform = transforms.Compose(\n",
    "    [transforms.ToTensor(),\n",
    "     transforms.Normalize((0.5), (0.5))])\n",
    "\n",
    "trainset = torchvision.datasets.CIFAR10(root='./MNIST', train=True,\n",
    "                                        download=True, transform=transform)\n",
    "\n",
    "trainloader = torch.utils.data.DataLoader(trainset, batch_size=bs,\n",
    "                                          shuffle=True, num_workers=0)\n",
    "\n",
    "testset = torchvision.datasets.CIFAR10(root='./MNIST', train=False,\n",
    "                                       download=True, transform=transform)\n",
    "\n",
    "testloader = torch.utils.data.DataLoader(testset, batch_size=bs,\n",
    "                                         shuffle=False, num_workers=0)\n",
    "\n",
    "\n",
    "del trainset, testset\n",
    "\n",
    "gc.collect()\n",
    "torch.cuda.empty_cache()\n",
    "\n",
    "\n",
    "updaterw = Conv()\n",
    "if cuda_is_available:\n",
    "    updaterw = updaterw.cuda()\n",
    "\n",
    "optimizerw = torch.optim.Adam(updaterw.parameters(), lr=0.0001)\n",
    "    \n",
    "\n",
    "#updaterw.load_state_dict(torch.load('../input/bupdaterw/updaterw_CFIARb', map_location=torch.device('cuda')))\n",
    "#updaterw.eval()"
   ]
  },
  {
   "cell_type": "code",
   "execution_count": 3,
   "metadata": {
    "execution": {
     "iopub.execute_input": "2020-10-05T21:31:48.730871Z",
     "iopub.status.busy": "2020-10-05T21:31:48.729790Z",
     "iopub.status.idle": "2020-10-05T21:31:56.450376Z",
     "shell.execute_reply": "2020-10-05T21:31:56.450914Z"
    },
    "papermill": {
     "duration": 7.74794,
     "end_time": "2020-10-05T21:31:56.451085",
     "exception": false,
     "start_time": "2020-10-05T21:31:48.703145",
     "status": "completed"
    },
    "tags": []
   },
   "outputs": [
    {
     "name": "stderr",
     "output_type": "stream",
     "text": [
      "tensor(0., device='cuda:0', grad_fn=<DivBackward0>):   0%|          | 249/50000 [00:07<25:40, 32.29it/s]\n"
     ]
    }
   ],
   "source": [
    "# train m1\n",
    "\n",
    "for lolo in range(1): # 4-6\n",
    "    b = 0\n",
    "    t = tqdm(trainloader)\n",
    "    losso = 0\n",
    "    f = nn.Flatten()\n",
    "    inc = 0\n",
    "    for (x, y) in t:\n",
    "        \n",
    "        if cuda_is_available:\n",
    "            x = x.cuda()\n",
    "        \n",
    "        loss = forward_backward(resnet18(x).reshape([bs, 1, 32, 32]), y)\n",
    "        \n",
    "        losso += loss\n",
    "        inc += 1\n",
    "        t.set_description(str(losso/inc))\n",
    "        del loss\n",
    "        \n",
    "        if inc % 50 == 0:\n",
    "            b += 1\n",
    "            del losso\n",
    "            losso = 0\n",
    "            inc = 0\n",
    "            gc.collect()\n",
    "            torch.cuda.empty_cache()\n",
    "            if b == 5: # dont need all epochs, learns pretty quick\n",
    "                break"
   ]
  },
  {
   "cell_type": "code",
   "execution_count": 4,
   "metadata": {
    "execution": {
     "iopub.execute_input": "2020-10-05T21:31:56.710781Z",
     "iopub.status.busy": "2020-10-05T21:31:56.710083Z",
     "iopub.status.idle": "2020-10-05T21:31:56.713633Z",
     "shell.execute_reply": "2020-10-05T21:31:56.713106Z"
    },
    "papermill": {
     "duration": 0.134249,
     "end_time": "2020-10-05T21:31:56.713739",
     "exception": false,
     "start_time": "2020-10-05T21:31:56.579490",
     "status": "completed"
    },
    "tags": []
   },
   "outputs": [],
   "source": [
    "torch.save(updaterw.state_dict(), 'updaterw_CFIAR')"
   ]
  },
  {
   "cell_type": "code",
   "execution_count": 5,
   "metadata": {
    "execution": {
     "iopub.execute_input": "2020-10-05T21:31:57.028703Z",
     "iopub.status.busy": "2020-10-05T21:31:57.027708Z",
     "iopub.status.idle": "2020-10-05T21:31:57.030895Z",
     "shell.execute_reply": "2020-10-05T21:31:57.030323Z"
    },
    "papermill": {
     "duration": 0.190271,
     "end_time": "2020-10-05T21:31:57.031015",
     "exception": false,
     "start_time": "2020-10-05T21:31:56.840744",
     "status": "completed"
    },
    "tags": []
   },
   "outputs": [],
   "source": [
    "gc.collect()\n",
    "torch.cuda.empty_cache()"
   ]
  },
  {
   "cell_type": "code",
   "execution_count": 6,
   "metadata": {
    "execution": {
     "iopub.execute_input": "2020-10-05T21:31:57.363509Z",
     "iopub.status.busy": "2020-10-05T21:31:57.362587Z",
     "iopub.status.idle": "2020-10-05T21:32:00.326600Z",
     "shell.execute_reply": "2020-10-05T21:32:00.325939Z"
    },
    "papermill": {
     "duration": 3.17162,
     "end_time": "2020-10-05T21:32:00.326724",
     "exception": false,
     "start_time": "2020-10-05T21:31:57.155104",
     "status": "completed"
    },
    "tags": []
   },
   "outputs": [
    {
     "name": "stdout",
     "output_type": "stream",
     "text": [
      "Files already downloaded and verified\n",
      "Files already downloaded and verified\n"
     ]
    }
   ],
   "source": [
    "mbs = 100\n",
    "\n",
    "gc.collect()\n",
    "torch.cuda.empty_cache()\n",
    "\n",
    "# define Metanet working in series of 100\n",
    "class ConvM2(nn.Module):\n",
    "    def __init__(self):\n",
    "        super(ConvM2, self).__init__()\n",
    "        self.padding = 1\n",
    "        \n",
    "        self.norm = nn.ReLU()\n",
    "        \n",
    "        self.W1 = nn.Conv2d(mbs*2*10, mbs*2*10, 3, 1, self.padding, bias=False)\n",
    "        self.W2 = nn.Conv2d(mbs*2*10, mbs*16, 3, 1, self.padding, bias=False)\n",
    "        self.W3 = nn.Conv2d(mbs*16, mbs*16, 3, 1, self.padding, bias=False)\n",
    "        self.W4 = nn.Conv2d(mbs*16, mbs*16, 3, 1, self.padding, bias=False)\n",
    "        self.W5 = nn.Conv2d(mbs*16, imsize, 3, 1, self.padding, bias=False)\n",
    "        \n",
    "        self.W6 = nn.Conv2d(mbs*16, mbs*16, 3, 1, self.padding, bias=False)\n",
    "        self.W7 = nn.Conv2d(mbs*16, mbs*2, 3, 1, self.padding, bias=False)\n",
    "        self.W8 = nn.Conv2d(mbs*2, mbs, 3, 1, self.padding, bias=False)\n",
    "        self.W9 = nn.Conv2d(mbs, 10, 3, 1, self.padding, bias=False)\n",
    "        \n",
    "    def forward(self, x):\n",
    "        \n",
    "        x1 = self.norm(self.W1(x))\n",
    "        x = self.norm(self.W2(x1))\n",
    "        x = self.norm(self.W3(x))\n",
    "        x2 = self.norm(self.W4(x))\n",
    "        r1 = self.W5(x2)\n",
    "        \n",
    "        x = self.norm(self.W6(x2))\n",
    "        x = self.norm(self.W7(x))\n",
    "        x = self.norm(self.W8(x))\n",
    "        r2 = self.W9(x)\n",
    "        \n",
    "        return r1, r2\n",
    "    \n",
    "m2 = ConvM2()\n",
    "if cuda_is_available:\n",
    "    m2 = m2.cuda()\n",
    "    \n",
    "# get dataset\n",
    "    \n",
    "transform = transforms.Compose(\n",
    "    [transforms.ToTensor(),\n",
    "     transforms.Normalize((0.5), (0.5))])\n",
    "\n",
    "trainset = torchvision.datasets.CIFAR10(root='./MNIST', train=True,\n",
    "                                        download=True, transform=transform)\n",
    "\n",
    "trainloader = torch.utils.data.DataLoader(trainset, batch_size=mbs,\n",
    "                                          shuffle=True, num_workers=0)\n",
    "\n",
    "testset = torchvision.datasets.CIFAR10(root='./MNIST', train=False,\n",
    "                                       download=True, transform=transform)\n",
    "\n",
    "testloader = torch.utils.data.DataLoader(testset, batch_size=mbs,\n",
    "                                         shuffle=False, num_workers=0)\n",
    "\n",
    "\n",
    "del trainset\n",
    "del testset"
   ]
  },
  {
   "cell_type": "code",
   "execution_count": 7,
   "metadata": {
    "execution": {
     "iopub.execute_input": "2020-10-05T21:32:00.726465Z",
     "iopub.status.busy": "2020-10-05T21:32:00.725352Z",
     "iopub.status.idle": "2020-10-05T21:32:00.741596Z",
     "shell.execute_reply": "2020-10-05T21:32:00.742463Z"
    },
    "papermill": {
     "duration": 0.218242,
     "end_time": "2020-10-05T21:32:00.742650",
     "exception": false,
     "start_time": "2020-10-05T21:32:00.524408",
     "status": "completed"
    },
    "tags": []
   },
   "outputs": [],
   "source": [
    "# one forward and backward of 100 series model\n",
    "\n",
    "def forward_backwardM2(x, y, optimizer):\n",
    "    \n",
    "    x = f(x).float()\n",
    "\n",
    "    yee = torch.tensor([])\n",
    "    if cuda_is_available:\n",
    "        yee = torch.tensor([]).cuda()\n",
    "        x = x.cuda()\n",
    "        y = y.cuda()\n",
    "    for b in range(mbs):\n",
    "        if cuda_is_available:\n",
    "            ye = torch.zeros([10]).cuda()\n",
    "        else:\n",
    "            ye = torch.zeros([10])\n",
    "        ye[y] = 10\n",
    "        yee = torch.cat([yee, ye])\n",
    "    x =  nn.BatchNorm1d(1024).cuda()(nn.ReLU()(x)) #\n",
    "        \n",
    "    secondary = yee.reshape([mbs, 10]).repeat(imsize, 1).reshape([mbs*imsize, 10])\n",
    "    win = torch.cat([secondary, x.reshape([mbs*imsize,1]).repeat(1, 10).reshape([mbs*imsize, 10])]).reshape([mbs, 20, 32, 32])\n",
    "    w1 = torch.cat([updaterw(win).detach().reshape([mbs, 10, imsize]), x.reshape([mbs, 1, imsize]).repeat(1, 10, 1)]).reshape([1, mbs*2*10, 1, imsize]) #794\n",
    "\n",
    "    weights = m2(w1)\n",
    "    \n",
    "\n",
    "    pred = (torch.mm((nn.ReLU()(torch.mm(x, weights[0].reshape([imsize, imsize])))), weights[1].reshape([imsize, 10]))) #nn.Softmax()  nn.ReLU() nn.ReLU() nn.BatchNorm1d(1024).cuda()\n",
    "\n",
    "    loss = nn.CrossEntropyLoss()(pred.reshape([mbs, 10]), y) #nn.Softmax() \n",
    "\n",
    "    return loss"
   ]
  },
  {
   "cell_type": "code",
   "execution_count": 8,
   "metadata": {
    "execution": {
     "iopub.execute_input": "2020-10-05T21:32:01.090086Z",
     "iopub.status.busy": "2020-10-05T21:32:01.021087Z",
     "iopub.status.idle": "2020-10-05T21:32:01.093883Z",
     "shell.execute_reply": "2020-10-05T21:32:01.093278Z"
    },
    "papermill": {
     "duration": 0.218992,
     "end_time": "2020-10-05T21:32:01.094003",
     "exception": false,
     "start_time": "2020-10-05T21:32:00.875011",
     "status": "completed"
    },
    "tags": []
   },
   "outputs": [],
   "source": [
    "gc.collect()\n",
    "torch.cuda.empty_cache()\n",
    "\n",
    "optim2 = torch.optim.Adam(m2.parameters(), lr=0.00005)\n",
    "\n",
    "# test accuracy of initialization weights produced\n",
    "def testinv():\n",
    "    t = enumerate(testloader)\n",
    "    losso = 0\n",
    "    f = nn.Flatten()\n",
    "    for i, (x, y) in t:\n",
    "        \n",
    "        x = f(resnet18(x.cuda())).float()\n",
    "        yee = torch.tensor([])\n",
    "        if cuda_is_available:\n",
    "            yee = torch.tensor([]).cuda()\n",
    "            x = x.cuda()\n",
    "            y = y.cuda()\n",
    "        for b in range(mbs):\n",
    "            if cuda_is_available:\n",
    "                ye = torch.zeros([10]).cuda()\n",
    "            else:\n",
    "                ye = torch.zeros([10])\n",
    "            ye[y] = 10\n",
    "            yee = torch.cat([yee, ye])\n",
    "            \n",
    "        x = nn.BatchNorm1d(1024).cuda()(nn.ReLU()(x)) #\n",
    "        secondary = yee.reshape([mbs, 10]).repeat(imsize, 1).reshape([mbs*imsize, 10])\n",
    "        win = torch.cat([secondary, x.reshape([mbs*imsize,1]).repeat(1, 10).reshape([mbs*imsize, 10])]).reshape([mbs, 20, 32, 32])\n",
    "\n",
    "        w1 = torch.cat([updaterw(win).detach().reshape([mbs, 10, imsize]), x.reshape([mbs, 1, imsize]).repeat(1, 10, 1)]).reshape([1, mbs*2*10, 1, imsize]) #794\n",
    "\n",
    "        weights = m2(w1)\n",
    "    \n",
    "\n",
    "        pred = torch.argmax((torch.mm((nn.ReLU()(torch.mm(x, weights[0].reshape([imsize, imsize])))), weights[1].reshape([imsize, 10]))),axis=1) #nn.ReLU() nn.BatchNorm1d(1024).cuda()\n",
    "        \n",
    "        if mbs != 1:\n",
    "            for ll in range(mbs):\n",
    "                if pred.reshape([mbs])[ll] == y[ll]: #nn.Softmax()\n",
    "                    losso += 1\n",
    "        else:\n",
    "            if pred == y:\n",
    "                losso += 1\n",
    "\n",
    "        if i == 10:\n",
    "             return weights,losso/(11*mbs)"
   ]
  },
  {
   "cell_type": "code",
   "execution_count": 9,
   "metadata": {
    "execution": {
     "iopub.execute_input": "2020-10-05T21:32:01.371416Z",
     "iopub.status.busy": "2020-10-05T21:32:01.369594Z",
     "iopub.status.idle": "2020-10-05T21:32:01.372227Z",
     "shell.execute_reply": "2020-10-05T21:32:01.372774Z"
    },
    "papermill": {
     "duration": 0.147392,
     "end_time": "2020-10-05T21:32:01.372931",
     "exception": false,
     "start_time": "2020-10-05T21:32:01.225539",
     "status": "completed"
    },
    "tags": []
   },
   "outputs": [],
   "source": [
    "#m2.load_state_dict(torch.load('../input/bs50-model-save-epoch-15/bs50_model_save_epoch_15.pth', map_location=torch.device('cuda'))) #m2.load_state_dict(torch.load('../input/bs50-model-save-epoch-15/bs50_model_save_epoch_15.pth', map_location=torch.device('cuda'))) # #"
   ]
  },
  {
   "cell_type": "code",
   "execution_count": 10,
   "metadata": {
    "execution": {
     "iopub.execute_input": "2020-10-05T21:32:01.711306Z",
     "iopub.status.busy": "2020-10-05T21:32:01.708925Z",
     "iopub.status.idle": "2020-10-06T00:54:29.349546Z",
     "shell.execute_reply": "2020-10-06T00:54:29.350034Z"
    },
    "papermill": {
     "duration": 12147.847254,
     "end_time": "2020-10-06T00:54:29.350199",
     "exception": false,
     "start_time": "2020-10-05T21:32:01.502945",
     "status": "completed"
    },
    "tags": []
   },
   "outputs": [
    {
     "name": "stderr",
     "output_type": "stream",
     "text": [
      "tensor(1.8888, device='cuda:0', grad_fn=<DivBackward0>): 100%|██████████| 500/500 [03:59<00:00,  2.08it/s]\n",
      "  0%|          | 0/500 [00:00<?, ?it/s]"
     ]
    },
    {
     "name": "stdout",
     "output_type": "stream",
     "text": [
      "0.32545454545454544\n"
     ]
    },
    {
     "name": "stderr",
     "output_type": "stream",
     "text": [
      "tensor(1.4331, device='cuda:0', grad_fn=<DivBackward0>): 100%|██████████| 500/500 [03:59<00:00,  2.08it/s]\n",
      "  0%|          | 0/500 [00:00<?, ?it/s]"
     ]
    },
    {
     "name": "stdout",
     "output_type": "stream",
     "text": [
      "0.5163636363636364\n"
     ]
    },
    {
     "name": "stderr",
     "output_type": "stream",
     "text": [
      "tensor(1.3480, device='cuda:0', grad_fn=<DivBackward0>): 100%|██████████| 500/500 [03:59<00:00,  2.09it/s]\n",
      "  0%|          | 0/500 [00:00<?, ?it/s]"
     ]
    },
    {
     "name": "stdout",
     "output_type": "stream",
     "text": [
      "0.5581818181818182\n"
     ]
    },
    {
     "name": "stderr",
     "output_type": "stream",
     "text": [
      "tensor(1.2808, device='cuda:0', grad_fn=<DivBackward0>): 100%|██████████| 500/500 [03:59<00:00,  2.08it/s]\n",
      "  0%|          | 0/500 [00:00<?, ?it/s]"
     ]
    },
    {
     "name": "stdout",
     "output_type": "stream",
     "text": [
      "0.5727272727272728\n"
     ]
    },
    {
     "name": "stderr",
     "output_type": "stream",
     "text": [
      "tensor(1.2761, device='cuda:0', grad_fn=<DivBackward0>): 100%|██████████| 500/500 [04:00<00:00,  2.08it/s]\n",
      "  0%|          | 0/500 [00:00<?, ?it/s]"
     ]
    },
    {
     "name": "stdout",
     "output_type": "stream",
     "text": [
      "0.5772727272727273\n"
     ]
    },
    {
     "name": "stderr",
     "output_type": "stream",
     "text": [
      "tensor(1.0366, device='cuda:0', grad_fn=<DivBackward0>): 100%|██████████| 500/500 [03:59<00:00,  2.09it/s]\n",
      "  0%|          | 0/500 [00:00<?, ?it/s]"
     ]
    },
    {
     "name": "stdout",
     "output_type": "stream",
     "text": [
      "0.5845454545454546\n"
     ]
    },
    {
     "name": "stderr",
     "output_type": "stream",
     "text": [
      "tensor(1.1699, device='cuda:0', grad_fn=<DivBackward0>): 100%|██████████| 500/500 [03:59<00:00,  2.09it/s]\n",
      "  0%|          | 0/500 [00:00<?, ?it/s]"
     ]
    },
    {
     "name": "stdout",
     "output_type": "stream",
     "text": [
      "0.58\n"
     ]
    },
    {
     "name": "stderr",
     "output_type": "stream",
     "text": [
      "tensor(1.2428, device='cuda:0', grad_fn=<DivBackward0>): 100%|██████████| 500/500 [04:00<00:00,  2.08it/s]\n",
      "  0%|          | 0/500 [00:00<?, ?it/s]"
     ]
    },
    {
     "name": "stdout",
     "output_type": "stream",
     "text": [
      "0.5854545454545454\n"
     ]
    },
    {
     "name": "stderr",
     "output_type": "stream",
     "text": [
      "tensor(1.1339, device='cuda:0', grad_fn=<DivBackward0>): 100%|██████████| 500/500 [04:02<00:00,  2.06it/s]\n",
      "  0%|          | 0/500 [00:00<?, ?it/s]"
     ]
    },
    {
     "name": "stdout",
     "output_type": "stream",
     "text": [
      "0.5818181818181818\n"
     ]
    },
    {
     "name": "stderr",
     "output_type": "stream",
     "text": [
      "tensor(1.0261, device='cuda:0', grad_fn=<DivBackward0>): 100%|██████████| 500/500 [04:02<00:00,  2.06it/s]\n",
      "  0%|          | 0/500 [00:00<?, ?it/s]"
     ]
    },
    {
     "name": "stdout",
     "output_type": "stream",
     "text": [
      "0.5772727272727273\n"
     ]
    },
    {
     "name": "stderr",
     "output_type": "stream",
     "text": [
      "tensor(1.1374, device='cuda:0', grad_fn=<DivBackward0>): 100%|██████████| 500/500 [04:01<00:00,  2.07it/s]\n",
      "  0%|          | 0/500 [00:00<?, ?it/s]"
     ]
    },
    {
     "name": "stdout",
     "output_type": "stream",
     "text": [
      "0.5736363636363636\n"
     ]
    },
    {
     "name": "stderr",
     "output_type": "stream",
     "text": [
      "tensor(1.0780, device='cuda:0', grad_fn=<DivBackward0>): 100%|██████████| 500/500 [04:01<00:00,  2.07it/s]\n",
      "  0%|          | 0/500 [00:00<?, ?it/s]"
     ]
    },
    {
     "name": "stdout",
     "output_type": "stream",
     "text": [
      "0.5763636363636364\n"
     ]
    },
    {
     "name": "stderr",
     "output_type": "stream",
     "text": [
      "tensor(1.0338, device='cuda:0', grad_fn=<DivBackward0>): 100%|██████████| 500/500 [04:01<00:00,  2.07it/s]\n",
      "  0%|          | 0/500 [00:00<?, ?it/s]"
     ]
    },
    {
     "name": "stdout",
     "output_type": "stream",
     "text": [
      "0.5809090909090909\n"
     ]
    },
    {
     "name": "stderr",
     "output_type": "stream",
     "text": [
      "tensor(1.0866, device='cuda:0', grad_fn=<DivBackward0>): 100%|██████████| 500/500 [04:01<00:00,  2.07it/s]\n",
      "  0%|          | 0/500 [00:00<?, ?it/s]"
     ]
    },
    {
     "name": "stdout",
     "output_type": "stream",
     "text": [
      "0.5881818181818181\n"
     ]
    },
    {
     "name": "stderr",
     "output_type": "stream",
     "text": [
      "tensor(1.0072, device='cuda:0', grad_fn=<DivBackward0>): 100%|██████████| 500/500 [04:01<00:00,  2.07it/s]\n",
      "  0%|          | 0/500 [00:00<?, ?it/s]"
     ]
    },
    {
     "name": "stdout",
     "output_type": "stream",
     "text": [
      "0.5763636363636364\n"
     ]
    },
    {
     "name": "stderr",
     "output_type": "stream",
     "text": [
      "tensor(1.1371, device='cuda:0', grad_fn=<DivBackward0>): 100%|██████████| 500/500 [04:00<00:00,  2.08it/s]\n",
      "  0%|          | 0/500 [00:00<?, ?it/s]"
     ]
    },
    {
     "name": "stdout",
     "output_type": "stream",
     "text": [
      "0.5690909090909091\n"
     ]
    },
    {
     "name": "stderr",
     "output_type": "stream",
     "text": [
      "tensor(1.1285, device='cuda:0', grad_fn=<DivBackward0>): 100%|██████████| 500/500 [04:00<00:00,  2.08it/s]\n",
      "  0%|          | 0/500 [00:00<?, ?it/s]"
     ]
    },
    {
     "name": "stdout",
     "output_type": "stream",
     "text": [
      "0.5827272727272728\n"
     ]
    },
    {
     "name": "stderr",
     "output_type": "stream",
     "text": [
      "tensor(0.9975, device='cuda:0', grad_fn=<DivBackward0>): 100%|██████████| 500/500 [04:00<00:00,  2.08it/s]\n",
      "  0%|          | 0/500 [00:00<?, ?it/s]"
     ]
    },
    {
     "name": "stdout",
     "output_type": "stream",
     "text": [
      "0.5727272727272728\n"
     ]
    },
    {
     "name": "stderr",
     "output_type": "stream",
     "text": [
      "tensor(0.9766, device='cuda:0', grad_fn=<DivBackward0>): 100%|██████████| 500/500 [04:01<00:00,  2.07it/s]\n",
      "  0%|          | 0/500 [00:00<?, ?it/s]"
     ]
    },
    {
     "name": "stdout",
     "output_type": "stream",
     "text": [
      "0.5718181818181818\n"
     ]
    },
    {
     "name": "stderr",
     "output_type": "stream",
     "text": [
      "tensor(1.0250, device='cuda:0', grad_fn=<DivBackward0>): 100%|██████████| 500/500 [04:00<00:00,  2.08it/s]\n",
      "  0%|          | 0/500 [00:00<?, ?it/s]"
     ]
    },
    {
     "name": "stdout",
     "output_type": "stream",
     "text": [
      "0.5736363636363636\n"
     ]
    },
    {
     "name": "stderr",
     "output_type": "stream",
     "text": [
      "tensor(0.9965, device='cuda:0', grad_fn=<DivBackward0>): 100%|██████████| 500/500 [04:00<00:00,  2.08it/s]\n",
      "  0%|          | 0/500 [00:00<?, ?it/s]"
     ]
    },
    {
     "name": "stdout",
     "output_type": "stream",
     "text": [
      "0.5745454545454546\n"
     ]
    },
    {
     "name": "stderr",
     "output_type": "stream",
     "text": [
      "tensor(0.9889, device='cuda:0', grad_fn=<DivBackward0>): 100%|██████████| 500/500 [04:01<00:00,  2.07it/s]\n",
      "  0%|          | 0/500 [00:00<?, ?it/s]"
     ]
    },
    {
     "name": "stdout",
     "output_type": "stream",
     "text": [
      "0.5736363636363636\n"
     ]
    },
    {
     "name": "stderr",
     "output_type": "stream",
     "text": [
      "tensor(1.0739, device='cuda:0', grad_fn=<DivBackward0>): 100%|██████████| 500/500 [04:01<00:00,  2.07it/s]\n",
      "  0%|          | 0/500 [00:00<?, ?it/s]"
     ]
    },
    {
     "name": "stdout",
     "output_type": "stream",
     "text": [
      "0.5772727272727273\n"
     ]
    },
    {
     "name": "stderr",
     "output_type": "stream",
     "text": [
      "tensor(0.9830, device='cuda:0', grad_fn=<DivBackward0>): 100%|██████████| 500/500 [04:00<00:00,  2.08it/s]\n",
      "  0%|          | 0/500 [00:00<?, ?it/s]"
     ]
    },
    {
     "name": "stdout",
     "output_type": "stream",
     "text": [
      "0.5781818181818181\n"
     ]
    },
    {
     "name": "stderr",
     "output_type": "stream",
     "text": [
      "tensor(1.0745, device='cuda:0', grad_fn=<DivBackward0>): 100%|██████████| 500/500 [04:01<00:00,  2.07it/s]\n",
      "  0%|          | 0/500 [00:00<?, ?it/s]"
     ]
    },
    {
     "name": "stdout",
     "output_type": "stream",
     "text": [
      "0.5663636363636364\n"
     ]
    },
    {
     "name": "stderr",
     "output_type": "stream",
     "text": [
      "tensor(1.0432, device='cuda:0', grad_fn=<DivBackward0>): 100%|██████████| 500/500 [04:00<00:00,  2.08it/s]\n",
      "  0%|          | 0/500 [00:00<?, ?it/s]"
     ]
    },
    {
     "name": "stdout",
     "output_type": "stream",
     "text": [
      "0.5690909090909091\n"
     ]
    },
    {
     "name": "stderr",
     "output_type": "stream",
     "text": [
      "tensor(0.9551, device='cuda:0', grad_fn=<DivBackward0>): 100%|██████████| 500/500 [04:00<00:00,  2.08it/s]\n",
      "  0%|          | 0/500 [00:00<?, ?it/s]"
     ]
    },
    {
     "name": "stdout",
     "output_type": "stream",
     "text": [
      "0.5772727272727273\n"
     ]
    },
    {
     "name": "stderr",
     "output_type": "stream",
     "text": [
      "tensor(0.9700, device='cuda:0', grad_fn=<DivBackward0>): 100%|██████████| 500/500 [04:00<00:00,  2.08it/s]\n",
      "  0%|          | 0/500 [00:00<?, ?it/s]"
     ]
    },
    {
     "name": "stdout",
     "output_type": "stream",
     "text": [
      "0.5636363636363636\n"
     ]
    },
    {
     "name": "stderr",
     "output_type": "stream",
     "text": [
      "tensor(0.9800, device='cuda:0', grad_fn=<DivBackward0>): 100%|██████████| 500/500 [04:00<00:00,  2.08it/s]\n",
      "  0%|          | 0/500 [00:00<?, ?it/s]"
     ]
    },
    {
     "name": "stdout",
     "output_type": "stream",
     "text": [
      "0.5681818181818182\n"
     ]
    },
    {
     "name": "stderr",
     "output_type": "stream",
     "text": [
      "tensor(1.0266, device='cuda:0', grad_fn=<DivBackward0>): 100%|██████████| 500/500 [03:59<00:00,  2.09it/s]\n",
      "  0%|          | 0/500 [00:00<?, ?it/s]"
     ]
    },
    {
     "name": "stdout",
     "output_type": "stream",
     "text": [
      "0.5663636363636364\n"
     ]
    },
    {
     "name": "stderr",
     "output_type": "stream",
     "text": [
      "tensor(0.9528, device='cuda:0', grad_fn=<DivBackward0>): 100%|██████████| 500/500 [04:00<00:00,  2.08it/s]\n",
      "  0%|          | 0/500 [00:00<?, ?it/s]"
     ]
    },
    {
     "name": "stdout",
     "output_type": "stream",
     "text": [
      "0.5763636363636364\n"
     ]
    },
    {
     "name": "stderr",
     "output_type": "stream",
     "text": [
      "tensor(0.9695, device='cuda:0', grad_fn=<DivBackward0>): 100%|██████████| 500/500 [04:01<00:00,  2.07it/s]\n",
      "  0%|          | 0/500 [00:00<?, ?it/s]"
     ]
    },
    {
     "name": "stdout",
     "output_type": "stream",
     "text": [
      "0.5581818181818182\n"
     ]
    },
    {
     "name": "stderr",
     "output_type": "stream",
     "text": [
      "tensor(0.9626, device='cuda:0', grad_fn=<DivBackward0>): 100%|██████████| 500/500 [04:01<00:00,  2.07it/s]\n",
      "  0%|          | 0/500 [00:00<?, ?it/s]"
     ]
    },
    {
     "name": "stdout",
     "output_type": "stream",
     "text": [
      "0.5636363636363636\n"
     ]
    },
    {
     "name": "stderr",
     "output_type": "stream",
     "text": [
      "tensor(0.9709, device='cuda:0', grad_fn=<DivBackward0>): 100%|██████████| 500/500 [03:59<00:00,  2.09it/s]\n",
      "  0%|          | 0/500 [00:00<?, ?it/s]"
     ]
    },
    {
     "name": "stdout",
     "output_type": "stream",
     "text": [
      "0.5627272727272727\n"
     ]
    },
    {
     "name": "stderr",
     "output_type": "stream",
     "text": [
      "tensor(0.9541, device='cuda:0', grad_fn=<DivBackward0>): 100%|██████████| 500/500 [04:00<00:00,  2.08it/s]\n",
      "  0%|          | 0/500 [00:00<?, ?it/s]"
     ]
    },
    {
     "name": "stdout",
     "output_type": "stream",
     "text": [
      "0.5672727272727273\n"
     ]
    },
    {
     "name": "stderr",
     "output_type": "stream",
     "text": [
      "tensor(0.8669, device='cuda:0', grad_fn=<DivBackward0>): 100%|██████████| 500/500 [04:00<00:00,  2.08it/s]\n",
      "  0%|          | 0/500 [00:00<?, ?it/s]"
     ]
    },
    {
     "name": "stdout",
     "output_type": "stream",
     "text": [
      "0.5581818181818182\n"
     ]
    },
    {
     "name": "stderr",
     "output_type": "stream",
     "text": [
      "tensor(0.9746, device='cuda:0', grad_fn=<DivBackward0>): 100%|██████████| 500/500 [04:00<00:00,  2.08it/s]\n",
      "  0%|          | 0/500 [00:00<?, ?it/s]"
     ]
    },
    {
     "name": "stdout",
     "output_type": "stream",
     "text": [
      "0.5554545454545454\n"
     ]
    },
    {
     "name": "stderr",
     "output_type": "stream",
     "text": [
      "tensor(0.9523, device='cuda:0', grad_fn=<DivBackward0>): 100%|██████████| 500/500 [03:59<00:00,  2.08it/s]\n",
      "  0%|          | 0/500 [00:00<?, ?it/s]"
     ]
    },
    {
     "name": "stdout",
     "output_type": "stream",
     "text": [
      "0.5618181818181818\n"
     ]
    },
    {
     "name": "stderr",
     "output_type": "stream",
     "text": [
      "tensor(0.9470, device='cuda:0', grad_fn=<DivBackward0>): 100%|██████████| 500/500 [04:00<00:00,  2.08it/s]\n",
      "  0%|          | 0/500 [00:00<?, ?it/s]"
     ]
    },
    {
     "name": "stdout",
     "output_type": "stream",
     "text": [
      "0.5636363636363636\n"
     ]
    },
    {
     "name": "stderr",
     "output_type": "stream",
     "text": [
      "tensor(0.9238, device='cuda:0', grad_fn=<DivBackward0>): 100%|██████████| 500/500 [04:01<00:00,  2.07it/s]\n",
      "  0%|          | 0/500 [00:00<?, ?it/s]"
     ]
    },
    {
     "name": "stdout",
     "output_type": "stream",
     "text": [
      "0.5690909090909091\n"
     ]
    },
    {
     "name": "stderr",
     "output_type": "stream",
     "text": [
      "tensor(0.8887, device='cuda:0', grad_fn=<DivBackward0>): 100%|██████████| 500/500 [04:00<00:00,  2.08it/s]\n",
      "  0%|          | 0/500 [00:00<?, ?it/s]"
     ]
    },
    {
     "name": "stdout",
     "output_type": "stream",
     "text": [
      "0.5590909090909091\n"
     ]
    },
    {
     "name": "stderr",
     "output_type": "stream",
     "text": [
      "tensor(0.8347, device='cuda:0', grad_fn=<DivBackward0>): 100%|██████████| 500/500 [04:01<00:00,  2.07it/s]\n",
      "  0%|          | 0/500 [00:00<?, ?it/s]"
     ]
    },
    {
     "name": "stdout",
     "output_type": "stream",
     "text": [
      "0.5618181818181818\n"
     ]
    },
    {
     "name": "stderr",
     "output_type": "stream",
     "text": [
      "tensor(0.8863, device='cuda:0', grad_fn=<DivBackward0>): 100%|██████████| 500/500 [04:01<00:00,  2.07it/s]\n",
      "  0%|          | 0/500 [00:00<?, ?it/s]"
     ]
    },
    {
     "name": "stdout",
     "output_type": "stream",
     "text": [
      "0.5536363636363636\n"
     ]
    },
    {
     "name": "stderr",
     "output_type": "stream",
     "text": [
      "tensor(0.8818, device='cuda:0', grad_fn=<DivBackward0>): 100%|██████████| 500/500 [04:00<00:00,  2.08it/s]\n",
      "  0%|          | 0/500 [00:00<?, ?it/s]"
     ]
    },
    {
     "name": "stdout",
     "output_type": "stream",
     "text": [
      "0.5445454545454546\n"
     ]
    },
    {
     "name": "stderr",
     "output_type": "stream",
     "text": [
      "tensor(0.9436, device='cuda:0', grad_fn=<DivBackward0>): 100%|██████████| 500/500 [04:00<00:00,  2.07it/s]\n",
      "  0%|          | 0/500 [00:00<?, ?it/s]"
     ]
    },
    {
     "name": "stdout",
     "output_type": "stream",
     "text": [
      "0.5572727272727273\n"
     ]
    },
    {
     "name": "stderr",
     "output_type": "stream",
     "text": [
      "tensor(0.8486, device='cuda:0', grad_fn=<DivBackward0>): 100%|██████████| 500/500 [04:01<00:00,  2.07it/s]\n",
      "  0%|          | 0/500 [00:00<?, ?it/s]"
     ]
    },
    {
     "name": "stdout",
     "output_type": "stream",
     "text": [
      "0.5663636363636364\n"
     ]
    },
    {
     "name": "stderr",
     "output_type": "stream",
     "text": [
      "tensor(0.7794, device='cuda:0', grad_fn=<DivBackward0>): 100%|██████████| 500/500 [03:59<00:00,  2.09it/s]\n",
      "  0%|          | 0/500 [00:00<?, ?it/s]"
     ]
    },
    {
     "name": "stdout",
     "output_type": "stream",
     "text": [
      "0.5654545454545454\n"
     ]
    },
    {
     "name": "stderr",
     "output_type": "stream",
     "text": [
      "tensor(0.8530, device='cuda:0', grad_fn=<DivBackward0>): 100%|██████████| 500/500 [04:01<00:00,  2.07it/s]\n",
      "  0%|          | 0/500 [00:00<?, ?it/s]"
     ]
    },
    {
     "name": "stdout",
     "output_type": "stream",
     "text": [
      "0.5772727272727273\n"
     ]
    },
    {
     "name": "stderr",
     "output_type": "stream",
     "text": [
      "tensor(0.8614, device='cuda:0', grad_fn=<DivBackward0>): 100%|██████████| 500/500 [04:00<00:00,  2.08it/s]\n",
      "  0%|          | 0/500 [00:00<?, ?it/s]"
     ]
    },
    {
     "name": "stdout",
     "output_type": "stream",
     "text": [
      "0.5672727272727273\n"
     ]
    },
    {
     "name": "stderr",
     "output_type": "stream",
     "text": [
      "tensor(0.7594, device='cuda:0', grad_fn=<DivBackward0>): 100%|██████████| 500/500 [03:58<00:00,  2.09it/s]\n"
     ]
    },
    {
     "name": "stdout",
     "output_type": "stream",
     "text": [
      "0.5618181818181818\n"
     ]
    }
   ],
   "source": [
    "gc.collect()\n",
    "torch.cuda.empty_cache()\n",
    "torch.cuda.empty_cache()\n",
    "\n",
    "def update(loss, optim):\n",
    "    optim.zero_grad()\n",
    "    loss.backward(retain_graph=True)\n",
    "    optim.step()\n",
    "\n",
    "# train bs100 model\n",
    "for lolo in range(50): # 4-6\n",
    "    f = nn.Flatten()\n",
    "    t = tqdm(trainloader)\n",
    "    losso = 0\n",
    "    passed = 0\n",
    "    inc = 0\n",
    "    for (x, y) in t:\n",
    "        \n",
    "        inc += 1\n",
    "        \n",
    "        #if inc < 388 and passed == 0:\n",
    "        #    continue\n",
    "            \n",
    "        #if inc == 388:\n",
    "        #    inc = 0\n",
    "        #    passed = 1\n",
    "        \n",
    "        if x.shape[0] != mbs:\n",
    "            break\n",
    "        \n",
    "        if cuda_is_available:\n",
    "            x = x.cuda()\n",
    "        \n",
    "        loss = forward_backwardM2(resnet18(x), y, optim2) # compute error, updates, apply\n",
    "        \n",
    "        update(loss, optim2)\n",
    "        \n",
    "        losso += loss\n",
    "\n",
    "        \n",
    "        t.set_description(str(losso/inc))\n",
    "        del loss\n",
    "        \n",
    "        \n",
    "        \n",
    "        if inc % 10 == 0: # make sure curren  t error estimate is not clogged by past, also helps with memory\n",
    "            del losso\n",
    "            losso = 0\n",
    "            inc = 0\n",
    "            gc.collect()\n",
    "            torch.cuda.empty_cache()\n",
    "        \n",
    "    _, acc = testinv() # weight for individual 250 batch\n",
    "    print(acc)\n",
    "    del _\n",
    "            \n",
    "        \n",
    "# find best parameter notes\n",
    "# 1200 --> 1.5644 STD: .02\n",
    "\n",
    "\n",
    "# 213: 2.3026 relu-softmax\n",
    "# 120 1.94 non\n",
    "# 120: 2.229 softmax-only\n",
    "# 120: 1.72 relu only - the best one!!!\n",
    "\n",
    "# 1.8552\n",
    "\n",
    "# no bias, 100, no instance, batch norm and relu - .509090909090909\n",
    "# no bias, 100, instance, batch norm and relu - 0.4509090909090909\n",
    "\n",
    "# no bias, 100, no instance, batch norm and relu - .509090909090909\n",
    "# no bias, 100, no instance, relu - 0.5336363636363637\n",
    "\n",
    "# no bias, 100, relu - 0.5336363636363637\n",
    "# one bias, 100, relu - 0.46\n",
    "\n",
    "# 100, relu 25e - \n",
    "# 50, relu 25e - "
   ]
  },
  {
   "cell_type": "code",
   "execution_count": 11,
   "metadata": {
    "execution": {
     "iopub.execute_input": "2020-10-06T00:55:04.601765Z",
     "iopub.status.busy": "2020-10-06T00:55:04.600797Z",
     "iopub.status.idle": "2020-10-06T00:55:05.645256Z",
     "shell.execute_reply": "2020-10-06T00:55:05.645906Z"
    },
    "papermill": {
     "duration": 18.730033,
     "end_time": "2020-10-06T00:55:05.646121",
     "exception": false,
     "start_time": "2020-10-06T00:54:46.916088",
     "status": "completed"
    },
    "tags": []
   },
   "outputs": [],
   "source": [
    "torch.save(m2.state_dict(), 'bs100_model_save_epoch_40.pth')"
   ]
  },
  {
   "cell_type": "code",
   "execution_count": 12,
   "metadata": {
    "execution": {
     "iopub.execute_input": "2020-10-06T00:55:41.366422Z",
     "iopub.status.busy": "2020-10-06T00:55:41.365411Z",
     "iopub.status.idle": "2020-10-06T00:55:43.582407Z",
     "shell.execute_reply": "2020-10-06T00:55:43.583100Z"
    },
    "papermill": {
     "duration": 19.82968,
     "end_time": "2020-10-06T00:55:43.583245",
     "exception": false,
     "start_time": "2020-10-06T00:55:23.753565",
     "status": "completed"
    },
    "tags": []
   },
   "outputs": [
    {
     "name": "stdout",
     "output_type": "stream",
     "text": [
      "0.5618181818181818\n"
     ]
    }
   ],
   "source": [
    "#m2.eval()\n",
    "_, acc = testinv() # weight for individual 100 batch\n",
    "print(acc)"
   ]
  },
  {
   "cell_type": "markdown",
   "metadata": {
    "papermill": {
     "duration": 18.165503,
     "end_time": "2020-10-06T00:56:19.273362",
     "exception": false,
     "start_time": "2020-10-06T00:56:01.107859",
     "status": "completed"
    },
    "tags": []
   },
   "source": [
    "# Training off of initailization\n",
    "## Results\n",
    "The metainitialized method does well right off the bat but soon dips in comparison to the model initialized off of truncated normals."
   ]
  },
  {
   "cell_type": "code",
   "execution_count": 13,
   "metadata": {
    "execution": {
     "iopub.execute_input": "2020-10-06T00:56:54.352909Z",
     "iopub.status.busy": "2020-10-06T00:56:54.337370Z",
     "iopub.status.idle": "2020-10-06T01:14:31.942783Z",
     "shell.execute_reply": "2020-10-06T01:14:31.941151Z"
    },
    "papermill": {
     "duration": 1075.09828,
     "end_time": "2020-10-06T01:14:31.943011",
     "exception": false,
     "start_time": "2020-10-06T00:56:36.844731",
     "status": "completed"
    },
    "tags": []
   },
   "outputs": [
    {
     "name": "stderr",
     "output_type": "stream",
     "text": [
      "0.0:   0%|          | 0/100 [00:00<?, ?it/s]"
     ]
    },
    {
     "name": "stdout",
     "output_type": "stream",
     "text": [
      "0.5618181818181818\n",
      "-------------------- predicted -----------------\n"
     ]
    },
    {
     "name": "stderr",
     "output_type": "stream",
     "text": [
      "0.9499: 100%|██████████| 100/100 [08:32<00:00,  5.12s/it]\n",
      "0.3333333333333333:   0%|          | 0/100 [00:00<?, ?it/s]"
     ]
    },
    {
     "name": "stdout",
     "output_type": "stream",
     "text": [
      "-------------------- baseline -----------------\n"
     ]
    },
    {
     "name": "stderr",
     "output_type": "stream",
     "text": [
      "0.9884: 100%|██████████| 100/100 [09:02<00:00,  5.43s/it]\n"
     ]
    }
   ],
   "source": [
    "\n",
    "# tests weights that we will use for further training\n",
    "def test():\n",
    "    t = enumerate(testloader)\n",
    "    losso = 0\n",
    "    f = nn.Flatten()\n",
    "    for i, (x, y) in t:\n",
    "        \n",
    "        x = f(resnet18(x.cuda())).float()\n",
    "        yee = torch.tensor([])\n",
    "        if cuda_is_available:\n",
    "            yee = torch.tensor([]).cuda()\n",
    "            x = x.cuda()\n",
    "            y = y.cuda()\n",
    "        for b in range(mbs):\n",
    "            if cuda_is_available:\n",
    "                ye = torch.zeros([10]).cuda()\n",
    "            else:\n",
    "                ye = torch.zeros([10])\n",
    "            ye[y] = 10\n",
    "            yee = torch.cat([yee, ye])\n",
    "            \n",
    "        #if i == 0:\n",
    "        \n",
    "        x = nn.BatchNorm1d(1024).cuda()(nn.ReLU()(x))\n",
    "        secondary = yee.reshape([mbs, 10]).repeat(imsize, 1).reshape([mbs*imsize, 10])\n",
    "        win = torch.cat([secondary, x.reshape([mbs*imsize,1]).repeat(1, 10).reshape([mbs*imsize, 10])]).reshape([mbs, 20, 32, 32])\n",
    "\n",
    "        w1 = torch.cat([updaterw(win).detach().reshape([mbs, 10, imsize]), x.reshape([mbs, 1, imsize]).repeat(1, 10, 1)]).reshape([1, mbs*2*10, 1, imsize]) #794\n",
    "\n",
    "        weights = m2(w1)\n",
    "\n",
    "        pred = torch.argmax(torch.mm((nn.ReLU()(torch.mm(x, weights[0].reshape([imsize, imsize])))), weights[1].reshape([imsize, 10])),axis=1)\n",
    "        \n",
    "        if mbs != 1:\n",
    "            for ll in range(mbs):\n",
    "                if pred.reshape([mbs])[ll] == y[ll]: #nn.Softmax()\n",
    "                    losso += 1\n",
    "        else:\n",
    "            if pred == y:\n",
    "                losso += 1\n",
    "\n",
    "        if i == 10:\n",
    "             return weights,losso/(11*mbs)\n",
    "    return weights, losso/(2*mbs)\n",
    "\n",
    "weight, acc = test() # weight for one batch used for all\n",
    "print(acc)\n",
    "\n",
    "# model using initialization weights\n",
    "class using_wpred(nn.Module):\n",
    "    def __init__(self):\n",
    "        super(using_wpred, self).__init__()\n",
    "        \n",
    "        self.b = nn.BatchNorm1d(1024)\n",
    "        self.W3 = nn.Linear(1024, 1024)\n",
    "        self.r = nn.ReLU()\n",
    "        \n",
    "    def forward(self, x):\n",
    "        \n",
    "        x = self.r(self.b(x))\n",
    "        x = self.W3(x)\n",
    "        \n",
    "        return x\n",
    "\n",
    "    \n",
    "print('-------------------- predicted -----------------')\n",
    "# predicted\n",
    "model = using_wpred().cuda()\n",
    "optimizerl = torch.optim.SGD(model.parameters(), lr=0.001)\n",
    "w1 = nn.Parameter(weight[0].reshape([1024, 1024]), requires_grad=True) # using predicted\n",
    "w2 = nn.Parameter(weight[1].reshape([1024, 10]), requires_grad=False) # using predicted\n",
    "losso = 0\n",
    "total = 0\n",
    "f = nn.Flatten()\n",
    "losslist1 = []\n",
    "\n",
    "iterator = tqdm(range(100))\n",
    "for lli in iterator:\n",
    "    t = testloader\n",
    "    for i, (x, y) in enumerate(t):\n",
    "        x = f(resnet18(x.cuda())).float()\n",
    "        y = y.cuda()\n",
    "        pred = nn.BatchNorm1d(1024).cuda()(nn.ReLU()(model(x))) #  \n",
    "        pred = ((torch.mm(pred, w1))) #nn.BatchNorm1d(1024).cuda() nn.ReLU()\n",
    "        pred = (torch.mm(pred,w2))\n",
    "        loss = nn.CrossEntropyLoss()(pred, y)\n",
    "        optimizerl.zero_grad()\n",
    "        loss.backward()\n",
    "        optimizerl.step()\n",
    "        pred = torch.argmax(pred, axis=1)\n",
    "        for ll in range(bs):\n",
    "            if pred.reshape([mbs])[ll] == y[ll]:\n",
    "                losso += 1\n",
    "            total += 1\n",
    "        iterator.set_description(str(losso/total))\n",
    "    losslist1.append(losso/total)\n",
    "        \n",
    "del model\n",
    "\n",
    "\n",
    "print('-------------------- baseline -----------------')\n",
    "# baseline\n",
    "modelo = using_wpred().cuda()\n",
    "optimizerl = torch.optim.SGD(modelo.parameters(), lr=0.001)\n",
    "w1 = nn.Parameter(torch.randn(1024, 1024), requires_grad=True).cuda() # baseline\n",
    "w2 = nn.Parameter(torch.randn(1024, 10), requires_grad=True).cuda() # baseline\n",
    "losso = 0\n",
    "total = 0\n",
    "losslist2 = []\n",
    "\n",
    "\n",
    "f = nn.Flatten()\n",
    "iterator = tqdm(range(100))\n",
    "for lli in iterator:\n",
    "    t = testloader\n",
    "    for i, (x, y) in enumerate(t):\n",
    "        x = f(resnet18(x.cuda())).float()\n",
    "        y = y.cuda()\n",
    "        pred = nn.BatchNorm1d(1024).cuda()(nn.ReLU()(modelo(x)))\n",
    "        pred = nn.BatchNorm1d(1024).cuda()(nn.ReLU()(torch.mm(pred, w1)))\n",
    "        pred = torch.mm(pred,w2)\n",
    "        loss = nn.CrossEntropyLoss()(pred, y)\n",
    "        optimizerl.zero_grad()\n",
    "        loss.backward(retain_graph=True)\n",
    "        optimizerl.step()\n",
    "        pred = torch.argmax(pred, axis=1)\n",
    "        for ll in range(bs):\n",
    "            if pred.reshape([mbs])[ll] == y[ll]:\n",
    "                losso += 1\n",
    "            total += 1\n",
    "        iterator.set_description(str(losso/total)) \n",
    "    losslist2.append(losso/total)\n",
    "\n",
    "    \n"
   ]
  },
  {
   "cell_type": "code",
   "execution_count": 14,
   "metadata": {
    "execution": {
     "iopub.execute_input": "2020-10-06T01:15:21.653243Z",
     "iopub.status.busy": "2020-10-06T01:15:21.652602Z",
     "iopub.status.idle": "2020-10-06T01:15:21.856313Z",
     "shell.execute_reply": "2020-10-06T01:15:21.856802Z"
    },
    "papermill": {
     "duration": 25.347081,
     "end_time": "2020-10-06T01:15:21.856979",
     "exception": false,
     "start_time": "2020-10-06T01:14:56.509898",
     "status": "completed"
    },
    "tags": []
   },
   "outputs": [
    {
     "name": "stdout",
     "output_type": "stream",
     "text": [
      "baseline: [0.31, 0.495, 0.6233333333333333, 0.71, 0.768, 0.8066666666666666, 0.8342857142857143, 0.855, 0.8711111111111111, 0.884, 0.8945454545454545, 0.9033333333333333, 0.9107692307692308, 0.9171428571428571, 0.9226666666666666, 0.9275, 0.9317647058823529, 0.9355555555555556, 0.9389473684210526, 0.942, 0.9447619047619048, 0.9472727272727273, 0.9495652173913044, 0.9516666666666667, 0.9536, 0.9553846153846154, 0.957037037037037, 0.9585714285714285, 0.96, 0.9613333333333334, 0.9625806451612903, 0.96375, 0.9648484848484848, 0.9658823529411765, 0.9668571428571429, 0.9677777777777777, 0.9686486486486486, 0.9694736842105263, 0.9702564102564103, 0.971, 0.9717073170731707, 0.9723809523809523, 0.9730232558139534, 0.9736363636363636, 0.9742222222222222, 0.9747826086956521, 0.9753191489361702, 0.9758333333333333, 0.976326530612245, 0.9768, 0.9772549019607844, 0.9776923076923076, 0.9781132075471698, 0.9785185185185186, 0.978909090909091, 0.9792857142857143, 0.9796491228070175, 0.98, 0.9803389830508474, 0.9806666666666667, 0.980983606557377, 0.9812903225806452, 0.9815873015873016, 0.981875, 0.9821538461538462, 0.9824242424242424, 0.9826865671641791, 0.9829411764705882, 0.9831884057971014, 0.9834285714285714, 0.9836619718309859, 0.9838888888888889, 0.9841095890410959, 0.9843243243243244, 0.9845333333333334, 0.9847368421052631, 0.9849350649350649, 0.9851282051282051, 0.9853164556962025, 0.9855, 0.985679012345679, 0.9858536585365854, 0.9860240963855421, 0.9861904761904762, 0.9863529411764705, 0.9865116279069768, 0.9866666666666667, 0.9868181818181818, 0.9869662921348314, 0.9871111111111112, 0.9872527472527473, 0.9873913043478261, 0.9875268817204301, 0.987659574468085, 0.9877894736842106, 0.9879166666666667, 0.9880412371134021, 0.9881632653061224, 0.9882828282828283, 0.9884]\n",
      "predicted: [0.23, 0.3, 0.3566666666666667, 0.41, 0.454, 0.49, 0.5214285714285715, 0.55, 0.5766666666666667, 0.601, 0.6245454545454545, 0.6441666666666667, 0.6623076923076923, 0.6785714285714286, 0.694, 0.70875, 0.7229411764705882, 0.7361111111111112, 0.7489473684210526, 0.7605, 0.770952380952381, 0.7804545454545454, 0.7891304347826087, 0.7970833333333334, 0.8044, 0.8111538461538461, 0.8174074074074074, 0.8232142857142857, 0.8286206896551724, 0.8336666666666667, 0.8383870967741935, 0.8434375, 0.8481818181818181, 0.8526470588235294, 0.8568571428571429, 0.8608333333333333, 0.8645945945945946, 0.8681578947368421, 0.8715384615384615, 0.87475, 0.8778048780487805, 0.8807142857142857, 0.8834883720930232, 0.8861363636363636, 0.8886666666666667, 0.8910869565217391, 0.8934042553191489, 0.895625, 0.8977551020408163, 0.8998, 0.9017647058823529, 0.9036538461538461, 0.9054716981132076, 0.9072222222222223, 0.9089090909090909, 0.9105357142857143, 0.9121052631578948, 0.9136206896551724, 0.9150847457627118, 0.9165, 0.9178688524590164, 0.9191935483870968, 0.9204761904761904, 0.92171875, 0.922923076923077, 0.9240909090909091, 0.9252238805970149, 0.9263235294117647, 0.9273913043478261, 0.9284285714285714, 0.9294366197183098, 0.9304166666666667, 0.9313698630136986, 0.9322972972972973, 0.9332, 0.934078947368421, 0.934935064935065, 0.9357692307692308, 0.9365822784810126, 0.937375, 0.9381481481481482, 0.9389024390243902, 0.9396385542168675, 0.9403571428571429, 0.9410588235294117, 0.9417441860465117, 0.9424137931034483, 0.9430681818181819, 0.9437078651685393, 0.9443333333333334, 0.944945054945055, 0.9455434782608696, 0.9461290322580646, 0.9467021276595745, 0.9472631578947368, 0.9478125, 0.9483505154639176, 0.9488775510204082, 0.9493939393939393, 0.9499]\n"
     ]
    },
    {
     "data": {
      "image/png": "[encoded data removed]",
      "text/plain": [
       "<Figure size 432x288 with 1 Axes>"
      ]
     },
     "metadata": {
      "needs_background": "light"
     },
     "output_type": "display_data"
    }
   ],
   "source": [
    "# results\n",
    "print('baseline:', losslist2)\n",
    "print('predicted:', losslist1)\n",
    "\n",
    "import matplotlib.pyplot as plt\n",
    "\n",
    "plt.plot(range(len(losslist2)), losslist2, label='baseline')\n",
    "plt.plot(range(len(losslist1)), losslist1, label='predicted')\n",
    "plt.show()"
   ]
  },
  {
   "cell_type": "markdown",
   "metadata": {
    "papermill": {
     "duration": 25.217076,
     "end_time": "2020-10-06T01:16:11.571803",
     "exception": false,
     "start_time": "2020-10-06T01:15:46.354727",
     "status": "completed"
    },
    "tags": []
   },
   "source": [
    "## Conclusions\n",
    "In order to find a better method of initialization we must find a way that will have a similar randomness and proclivity to do well after the initialization proccess. In the current moment I do not wish to pursue this project any longer becuase it seems to not be producing results."
   ]
  }
 ],
 "metadata": {
  "kernelspec": {
   "display_name": "Python 3",
   "language": "python",
   "name": "python3"
  },
  "language_info": {
   "codemirror_mode": {
    "name": "ipython",
    "version": 3
   },
   "file_extension": ".py",
   "mimetype": "text/x-python",
   "name": "python",
   "nbconvert_exporter": "python",
   "pygments_lexer": "ipython3",
   "version": "3.7.6"
  },
  "papermill": {
   "duration": 13511.915692,
   "end_time": "2020-10-06T01:16:37.772893",
   "environment_variables": {},
   "exception": null,
   "input_path": "__notebook__.ipynb",
   "output_path": "__notebook__.ipynb",
   "parameters": {},
   "start_time": "2020-10-05T21:31:25.857201",
   "version": "2.1.0"
  },
  "widgets": {
   "application/vnd.jupyter.widget-state+json": {
    "state": {
     "23a0a2c617db4f05b2f938c862a2b90c": {
      "model_module": "@jupyter-widgets/base",
      "model_module_version": "1.2.0",
      "model_name": "LayoutModel",
      "state": {
       "_model_module": "@jupyter-widgets/base",
       "_model_module_version": "1.2.0",
       "_model_name": "LayoutModel",
       "_view_count": null,
       "_view_module": "@jupyter-widgets/base",
       "_view_module_version": "1.2.0",
       "_view_name": "LayoutView",
       "align_content": null,
       "align_items": null,
       "align_self": null,
       "border": null,
       "bottom": null,
       "display": null,
       "flex": null,
       "flex_flow": null,
       "grid_area": null,
       "grid_auto_columns": null,
       "grid_auto_flow": null,
       "grid_auto_rows": null,
       "grid_column": null,
       "grid_gap": null,
       "grid_row": null,
       "grid_template_areas": null,
       "grid_template_columns": null,
       "grid_template_rows": null,
       "height": null,
       "justify_content": null,
       "justify_items": null,
       "left": null,
       "margin": null,
       "max_height": null,
       "max_width": null,
       "min_height": null,
       "min_width": null,
       "object_fit": null,
       "object_position": null,
       "order": null,
       "overflow": null,
       "overflow_x": null,
       "overflow_y": null,
       "padding": null,
       "right": null,
       "top": null,
       "visibility": null,
       "width": null
      }
     },
     "65e489d69f844ccbb0024984fea3dcda": {
      "model_module": "@jupyter-widgets/base",
      "model_module_version": "1.2.0",
      "model_name": "LayoutModel",
      "state": {
       "_model_module": "@jupyter-widgets/base",
       "_model_module_version": "1.2.0",
       "_model_name": "LayoutModel",
       "_view_count": null,
       "_view_module": "@jupyter-widgets/base",
       "_view_module_version": "1.2.0",
       "_view_name": "LayoutView",
       "align_content": null,
       "align_items": null,
       "align_self": null,
       "border": null,
       "bottom": null,
       "display": null,
       "flex": null,
       "flex_flow": null,
       "grid_area": null,
       "grid_auto_columns": null,
       "grid_auto_flow": null,
       "grid_auto_rows": null,
       "grid_column": null,
       "grid_gap": null,
       "grid_row": null,
       "grid_template_areas": null,
       "grid_template_columns": null,
       "grid_template_rows": null,
       "height": null,
       "justify_content": null,
       "justify_items": null,
       "left": null,
       "margin": null,
       "max_height": null,
       "max_width": null,
       "min_height": null,
       "min_width": null,
       "object_fit": null,
       "object_position": null,
       "order": null,
       "overflow": null,
       "overflow_x": null,
       "overflow_y": null,
       "padding": null,
       "right": null,
       "top": null,
       "visibility": null,
       "width": null
      }
     },
     "968900a859ef4b50bec8b4fb9ce390b7": {
      "model_module": "@jupyter-widgets/base",
      "model_module_version": "1.2.0",
      "model_name": "LayoutModel",
      "state": {
       "_model_module": "@jupyter-widgets/base",
       "_model_module_version": "1.2.0",
       "_model_name": "LayoutModel",
       "_view_count": null,
       "_view_module": "@jupyter-widgets/base",
       "_view_module_version": "1.2.0",
       "_view_name": "LayoutView",
       "align_content": null,
       "align_items": null,
       "align_self": null,
       "border": null,
       "bottom": null,
       "display": null,
       "flex": null,
       "flex_flow": null,
       "grid_area": null,
       "grid_auto_columns": null,
       "grid_auto_flow": null,
       "grid_auto_rows": null,
       "grid_column": null,
       "grid_gap": null,
       "grid_row": null,
       "grid_template_areas": null,
       "grid_template_columns": null,
       "grid_template_rows": null,
       "height": null,
       "justify_content": null,
       "justify_items": null,
       "left": null,
       "margin": null,
       "max_height": null,
       "max_width": null,
       "min_height": null,
       "min_width": null,
       "object_fit": null,
       "object_position": null,
       "order": null,
       "overflow": null,
       "overflow_x": null,
       "overflow_y": null,
       "padding": null,
       "right": null,
       "top": null,
       "visibility": null,
       "width": null
      }
     },
     "9a3f1d468fce4a9992c1d3a34bafd3b1": {
      "model_module": "@jupyter-widgets/base",
      "model_module_version": "1.2.0",
      "model_name": "LayoutModel",
      "state": {
       "_model_module": "@jupyter-widgets/base",
       "_model_module_version": "1.2.0",
       "_model_name": "LayoutModel",
       "_view_count": null,
       "_view_module": "@jupyter-widgets/base",
       "_view_module_version": "1.2.0",
       "_view_name": "LayoutView",
       "align_content": null,
       "align_items": null,
       "align_self": null,
       "border": null,
       "bottom": null,
       "display": null,
       "flex": null,
       "flex_flow": null,
       "grid_area": null,
       "grid_auto_columns": null,
       "grid_auto_flow": null,
       "grid_auto_rows": null,
       "grid_column": null,
       "grid_gap": null,
       "grid_row": null,
       "grid_template_areas": null,
       "grid_template_columns": null,
       "grid_template_rows": null,
       "height": null,
       "justify_content": null,
       "justify_items": null,
       "left": null,
       "margin": null,
       "max_height": null,
       "max_width": null,
       "min_height": null,
       "min_width": null,
       "object_fit": null,
       "object_position": null,
       "order": null,
       "overflow": null,
       "overflow_x": null,
       "overflow_y": null,
       "padding": null,
       "right": null,
       "top": null,
       "visibility": null,
       "width": null
      }
     },
     "9a7de743cc1c4281b432e9e02ecedfac": {
      "model_module": "@jupyter-widgets/controls",
      "model_module_version": "1.5.0",
      "model_name": "DescriptionStyleModel",
      "state": {
       "_model_module": "@jupyter-widgets/controls",
       "_model_module_version": "1.5.0",
       "_model_name": "DescriptionStyleModel",
       "_view_count": null,
       "_view_module": "@jupyter-widgets/base",
       "_view_module_version": "1.2.0",
       "_view_name": "StyleView",
       "description_width": ""
      }
     },
     "9aae9469b82b4d538282ea57234791fb": {
      "model_module": "@jupyter-widgets/controls",
      "model_module_version": "1.5.0",
      "model_name": "DescriptionStyleModel",
      "state": {
       "_model_module": "@jupyter-widgets/controls",
       "_model_module_version": "1.5.0",
       "_model_name": "DescriptionStyleModel",
       "_view_count": null,
       "_view_module": "@jupyter-widgets/base",
       "_view_module_version": "1.2.0",
       "_view_name": "StyleView",
       "description_width": ""
      }
     },
     "a658715b3d454100b867ea8e11a5eba7": {
      "model_module": "@jupyter-widgets/controls",
      "model_module_version": "1.5.0",
      "model_name": "HTMLModel",
      "state": {
       "_dom_classes": [],
       "_model_module": "@jupyter-widgets/controls",
       "_model_module_version": "1.5.0",
       "_model_name": "HTMLModel",
       "_view_count": null,
       "_view_module": "@jupyter-widgets/controls",
       "_view_module_version": "1.5.0",
       "_view_name": "HTMLView",
       "description": "",
       "description_tooltip": null,
       "layout": "IPY_MODEL_23a0a2c617db4f05b2f938c862a2b90c",
       "placeholder": "​",
       "style": "IPY_MODEL_9a7de743cc1c4281b432e9e02ecedfac",
       "value": " 170500096/? [00:05&lt;00:00, 31121177.13it/s]"
      }
     },
     "ac1d66788c9746e2a28623855b2f2ce6": {
      "model_module": "@jupyter-widgets/base",
      "model_module_version": "1.2.0",
      "model_name": "LayoutModel",
      "state": {
       "_model_module": "@jupyter-widgets/base",
       "_model_module_version": "1.2.0",
       "_model_name": "LayoutModel",
       "_view_count": null,
       "_view_module": "@jupyter-widgets/base",
       "_view_module_version": "1.2.0",
       "_view_name": "LayoutView",
       "align_content": null,
       "align_items": null,
       "align_self": null,
       "border": null,
       "bottom": null,
       "display": null,
       "flex": null,
       "flex_flow": null,
       "grid_area": null,
       "grid_auto_columns": null,
       "grid_auto_flow": null,
       "grid_auto_rows": null,
       "grid_column": null,
       "grid_gap": null,
       "grid_row": null,
       "grid_template_areas": null,
       "grid_template_columns": null,
       "grid_template_rows": null,
       "height": null,
       "justify_content": null,
       "justify_items": null,
       "left": null,
       "margin": null,
       "max_height": null,
       "max_width": null,
       "min_height": null,
       "min_width": null,
       "object_fit": null,
       "object_position": null,
       "order": null,
       "overflow": null,
       "overflow_x": null,
       "overflow_y": null,
       "padding": null,
       "right": null,
       "top": null,
       "visibility": null,
       "width": null
      }
     },
     "b6ec8c9e888f4f8b8ec321b7827d41b4": {
      "model_module": "@jupyter-widgets/base",
      "model_module_version": "1.2.0",
      "model_name": "LayoutModel",
      "state": {
       "_model_module": "@jupyter-widgets/base",
       "_model_module_version": "1.2.0",
       "_model_name": "LayoutModel",
       "_view_count": null,
       "_view_module": "@jupyter-widgets/base",
       "_view_module_version": "1.2.0",
       "_view_name": "LayoutView",
       "align_content": null,
       "align_items": null,
       "align_self": null,
       "border": null,
       "bottom": null,
       "display": null,
       "flex": null,
       "flex_flow": null,
       "grid_area": null,
       "grid_auto_columns": null,
       "grid_auto_flow": null,
       "grid_auto_rows": null,
       "grid_column": null,
       "grid_gap": null,
       "grid_row": null,
       "grid_template_areas": null,
       "grid_template_columns": null,
       "grid_template_rows": null,
       "height": null,
       "justify_content": null,
       "justify_items": null,
       "left": null,
       "margin": null,
       "max_height": null,
       "max_width": null,
       "min_height": null,
       "min_width": null,
       "object_fit": null,
       "object_position": null,
       "order": null,
       "overflow": null,
       "overflow_x": null,
       "overflow_y": null,
       "padding": null,
       "right": null,
       "top": null,
       "visibility": null,
       "width": null
      }
     },
     "c0ba5aa4f5884673a10fdf8b21b40454": {
      "model_module": "@jupyter-widgets/controls",
      "model_module_version": "1.5.0",
      "model_name": "ProgressStyleModel",
      "state": {
       "_model_module": "@jupyter-widgets/controls",
       "_model_module_version": "1.5.0",
       "_model_name": "ProgressStyleModel",
       "_view_count": null,
       "_view_module": "@jupyter-widgets/base",
       "_view_module_version": "1.2.0",
       "_view_name": "StyleView",
       "bar_color": null,
       "description_width": "initial"
      }
     },
     "d2f11659f95a45898042e1930ce4b99d": {
      "model_module": "@jupyter-widgets/controls",
      "model_module_version": "1.5.0",
      "model_name": "ProgressStyleModel",
      "state": {
       "_model_module": "@jupyter-widgets/controls",
       "_model_module_version": "1.5.0",
       "_model_name": "ProgressStyleModel",
       "_view_count": null,
       "_view_module": "@jupyter-widgets/base",
       "_view_module_version": "1.2.0",
       "_view_name": "StyleView",
       "bar_color": null,
       "description_width": "initial"
      }
     },
     "e1c686a83dfd4d51ba6d556fd09254ce": {
      "model_module": "@jupyter-widgets/controls",
      "model_module_version": "1.5.0",
      "model_name": "HBoxModel",
      "state": {
       "_dom_classes": [],
       "_model_module": "@jupyter-widgets/controls",
       "_model_module_version": "1.5.0",
       "_model_name": "HBoxModel",
       "_view_count": null,
       "_view_module": "@jupyter-widgets/controls",
       "_view_module_version": "1.5.0",
       "_view_name": "HBoxView",
       "box_style": "",
       "children": [
        "IPY_MODEL_ed3ea7c531dc4115b25833a17d70a3b3",
        "IPY_MODEL_a658715b3d454100b867ea8e11a5eba7"
       ],
       "layout": "IPY_MODEL_968900a859ef4b50bec8b4fb9ce390b7"
      }
     },
     "e685d0d9842b4107bf9311dac9716cd2": {
      "model_module": "@jupyter-widgets/controls",
      "model_module_version": "1.5.0",
      "model_name": "FloatProgressModel",
      "state": {
       "_dom_classes": [],
       "_model_module": "@jupyter-widgets/controls",
       "_model_module_version": "1.5.0",
       "_model_name": "FloatProgressModel",
       "_view_count": null,
       "_view_module": "@jupyter-widgets/controls",
       "_view_module_version": "1.5.0",
       "_view_name": "ProgressView",
       "bar_style": "success",
       "description": "100%",
       "description_tooltip": null,
       "layout": "IPY_MODEL_9a3f1d468fce4a9992c1d3a34bafd3b1",
       "max": 52147035.0,
       "min": 0.0,
       "orientation": "horizontal",
       "style": "IPY_MODEL_d2f11659f95a45898042e1930ce4b99d",
       "value": 52147035.0
      }
     },
     "ed3ea7c531dc4115b25833a17d70a3b3": {
      "model_module": "@jupyter-widgets/controls",
      "model_module_version": "1.5.0",
      "model_name": "FloatProgressModel",
      "state": {
       "_dom_classes": [],
       "_model_module": "@jupyter-widgets/controls",
       "_model_module_version": "1.5.0",
       "_model_name": "FloatProgressModel",
       "_view_count": null,
       "_view_module": "@jupyter-widgets/controls",
       "_view_module_version": "1.5.0",
       "_view_name": "ProgressView",
       "bar_style": "success",
       "description": "",
       "description_tooltip": null,
       "layout": "IPY_MODEL_ac1d66788c9746e2a28623855b2f2ce6",
       "max": 1.0,
       "min": 0.0,
       "orientation": "horizontal",
       "style": "IPY_MODEL_c0ba5aa4f5884673a10fdf8b21b40454",
       "value": 1.0
      }
     },
     "f0166b4bee6c4b028a5e042fe9465124": {
      "model_module": "@jupyter-widgets/controls",
      "model_module_version": "1.5.0",
      "model_name": "HBoxModel",
      "state": {
       "_dom_classes": [],
       "_model_module": "@jupyter-widgets/controls",
       "_model_module_version": "1.5.0",
       "_model_name": "HBoxModel",
       "_view_count": null,
       "_view_module": "@jupyter-widgets/controls",
       "_view_module_version": "1.5.0",
       "_view_name": "HBoxView",
       "box_style": "",
       "children": [
        "IPY_MODEL_e685d0d9842b4107bf9311dac9716cd2",
        "IPY_MODEL_fcd6a2bfa2874709aa6d66e3288c1a21"
       ],
       "layout": "IPY_MODEL_65e489d69f844ccbb0024984fea3dcda"
      }
     },
     "fcd6a2bfa2874709aa6d66e3288c1a21": {
      "model_module": "@jupyter-widgets/controls",
      "model_module_version": "1.5.0",
      "model_name": "HTMLModel",
      "state": {
       "_dom_classes": [],
       "_model_module": "@jupyter-widgets/controls",
       "_model_module_version": "1.5.0",
       "_model_name": "HTMLModel",
       "_view_count": null,
       "_view_module": "@jupyter-widgets/controls",
       "_view_module_version": "1.5.0",
       "_view_name": "HTMLView",
       "description": "",
       "description_tooltip": null,
       "layout": "IPY_MODEL_b6ec8c9e888f4f8b8ec321b7827d41b4",
       "placeholder": "​",
       "style": "IPY_MODEL_9aae9469b82b4d538282ea57234791fb",
       "value": " 49.7M/49.7M [00:04&lt;00:00, 12.6MB/s]"
      }
     }
    },
    "version_major": 2,
    "version_minor": 0
   }
  }
 },
 "nbformat": 4,
 "nbformat_minor": 4
}
